{
 "cells": [
  {
   "cell_type": "markdown",
   "source": [
    "Load the modules"
   ],
   "metadata": {
    "collapsed": false
   }
  },
  {
   "cell_type": "code",
   "execution_count": null,
   "outputs": [],
   "source": [
    "import numpy as np\n",
    "import tensorflow as tf\n",
    "from sklearn import preprocessing\n",
    "from tensorflow.keras import layers\n",
    "from sklearn.model_selection import train_test_split\n",
    "\n",
    "from src import datareader, enums"
   ],
   "metadata": {
    "collapsed": false,
    "pycharm": {
     "name": "#%%\n"
    }
   }
  },
  {
   "cell_type": "markdown",
   "source": [
    "Load in the data and split between training and testing"
   ],
   "metadata": {
    "collapsed": false
   }
  },
  {
   "cell_type": "code",
   "execution_count": null,
   "outputs": [],
   "source": [
    "filename = '/Users/mhogan/Documents/heartfailurepred/heart.csv'\n",
    "keys, features, labels = datareader.get_csv_features_labels(filename)\n",
    "tt_splits = train_test_split(features, labels, test_size=0.33)\n",
    "features_train, features_test, labels_train, labels_test = tt_splits"
   ],
   "metadata": {
    "collapsed": false,
    "pycharm": {
     "name": "#%%\n"
    }
   }
  },
  {
   "cell_type": "markdown",
   "source": [
    "Normalize the data"
   ],
   "metadata": {
    "collapsed": false
   }
  },
  {
   "cell_type": "code",
   "execution_count": null,
   "outputs": [],
   "source": [
    "normalized_features_train = preprocessing.normalize(features_train.swapaxes(0, 1)).swapaxes(0, 1)\n",
    "normalized_features_test = preprocessing.normalize(features_test.swapaxes(0, 1)).swapaxes(0, 1)\n",
    "normalized_features_test = normalized_features_test.reshape((len(normalized_features_test), len(keys)-1))"
   ],
   "metadata": {
    "collapsed": false,
    "pycharm": {
     "name": "#%%\n"
    }
   }
  },
  {
   "cell_type": "markdown",
   "source": [
    "Define the AdaBoost model using RandomForestClassier"
   ],
   "metadata": {
    "collapsed": false
   }
  },
  {
   "cell_type": "code",
   "execution_count": null,
   "outputs": [],
   "source": [
    "n_estimators_forest = 10000\n",
    "n_estimators_adaboost = 20\n",
    "random_forest_classifier: RandomForestClassifier = RandomForestClassifier(n_estimators=n_estimators_forest,\n",
    "                                                                          max_depth=3,\n",
    "                                                                          bootstrap=True,\n",
    "                                                                          verbose=True,\n",
    "                                                                          n_jobs=2)\n",
    "adaboost_classifier: AdaBoostClassifier = AdaBoostClassifier(base_estimator=random_forest_classifier,\n",
    "                                                             n_estimators=n_estimators_adaboost)\n",
    "\n",
    "adaboost_classifier.fit(normalized_features_train, labels_train)"
   ],
   "metadata": {
    "collapsed": false,
    "pycharm": {
     "name": "#%%\n"
    }
   }
  },
  {
   "cell_type": "markdown",
   "source": [
    "Predict the results"
   ],
   "metadata": {
    "collapsed": false
   }
  },
  {
   "cell_type": "code",
   "execution_count": null,
   "outputs": [],
   "source": [
    "predictions_class = adaboost_classifier.predict(features_test)"
   ],
   "metadata": {
    "collapsed": false,
    "pycharm": {
     "name": "#%%\n"
    }
   }
  },
  {
   "cell_type": "markdown",
   "source": [
    "Calculate intermediate results"
   ],
   "metadata": {
    "collapsed": false
   }
  },
  {
   "cell_type": "code",
   "execution_count": null,
   "outputs": [],
   "source": [
    "true_classes = enums.HeartDiseaseClassification()\n",
    "true_positive = np.count_nonzero(np.logical_and(predictions_class == true_classes.HeartDisease,\n",
    "                                                labels_test == true_classes.HeartDisease).astype(int))\n",
    "false_positive = np.count_nonzero(np.logical_and(predictions_class == true_classes.HeartDisease,\n",
    "                                                 labels_test == true_classes.Normal).astype(int))\n",
    "false_negative = np.count_nonzero(np.logical_and(predictions_class == true_classes.Normal,\n",
    "                                                 labels_test == true_classes.HeartDisease).astype(int))\n",
    "recall = true_positive / (false_negative + true_positive)\n",
    "precision = true_positive / (true_positive + false_positive)\n",
    "true_negative = np.count_nonzero(np.logical_and(predictions_class == true_classes.Normal,\n",
    "                                                labels_test == true_classes.Normal).astype(int))\n",
    "positives = np.count_nonzero((labels_test == true_classes.HeartDisease).astype(int))\n",
    "negatives = len(labels_test) - positives"
   ],
   "metadata": {
    "collapsed": false,
    "pycharm": {
     "name": "#%%\n"
    }
   }
  },
  {
   "cell_type": "markdown",
   "source": [
    "Calculate metrics"
   ],
   "metadata": {
    "collapsed": false
   }
  },
  {
   "cell_type": "code",
   "execution_count": null,
   "outputs": [],
   "source": [
    "sensitivity = float(true_positive) / positives\n",
    "specificity = float(true_negative) / negatives\n",
    "accuracy = (true_positive + true_negative) / (positives + negatives)\n",
    "f1_score = 2. / (1./recall + 1./precision)\n",
    "mcc = (true_positive * true_negative) - (false_positive * false_negative)\n",
    "mcc /= np.sqrt((true_positive + false_positive) * (true_positive + false_negative) *\n",
    "               (true_negative + false_positive) * (true_negative + false_negative))\n",
    "print('accuracy = ', accuracy)\n",
    "print('sensitivity = ', sensitivity)\n",
    "print('specificity = ', specificity)\n",
    "print('f1_score = ', f1_score)\n",
    "print('Matthew\\'s Corrleation Coefficient = ', mcc)\n"
   ],
   "metadata": {
    "collapsed": false,
    "pycharm": {
     "name": "#%%\n"
    }
   }
  },
  {
   "cell_type": "code",
   "execution_count": null,
   "metadata": {
    "collapsed": true
   },
   "outputs": [],
   "source": []
  }
 ],
 "metadata": {
  "kernelspec": {
   "display_name": "Python 3",
   "language": "python",
   "name": "python3"
  },
  "language_info": {
   "codemirror_mode": {
    "name": "ipython",
    "version": 2
   },
   "file_extension": ".py",
   "mimetype": "text/x-python",
   "name": "python",
   "nbconvert_exporter": "python",
   "pygments_lexer": "ipython2",
   "version": "2.7.6"
  }
 },
 "nbformat": 4,
 "nbformat_minor": 0
}