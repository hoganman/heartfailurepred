{
 "cells": [
  {
   "cell_type": "markdown",
   "metadata": {},
   "source": [
    "Load the modules"
   ]
  },
  {
   "cell_type": "code",
   "execution_count": 1,
   "metadata": {
    "pycharm": {
     "name": "#%%\n"
    }
   },
   "outputs": [],
   "source": [
    "import numpy as np\n",
    "import tensorflow as tf\n",
    "from sklearn import preprocessing\n",
    "from tensorflow.keras import layers\n",
    "from sklearn.model_selection import train_test_split\n",
    "\n",
    "from src import datareader, enums"
   ]
  },
  {
   "cell_type": "markdown",
   "metadata": {},
   "source": [
    "Load in the data and split between training and testing"
   ]
  },
  {
   "cell_type": "code",
   "execution_count": 2,
   "metadata": {
    "pycharm": {
     "name": "#%%\n"
    }
   },
   "outputs": [],
   "source": [
    "filename = '/Users/mhogan/Documents/heartfailurepred/heart.csv'\n",
    "keys, features, labels = datareader.get_csv_features_labels(filename)\n",
    "tt_splits = train_test_split(features, labels, test_size=0.33)\n",
    "features_train, features_test, labels_train, labels_test = tt_splits"
   ]
  },
  {
   "cell_type": "markdown",
   "metadata": {},
   "source": [
    "Normalize the data"
   ]
  },
  {
   "cell_type": "code",
   "execution_count": 3,
   "metadata": {
    "pycharm": {
     "name": "#%%\n"
    }
   },
   "outputs": [],
   "source": [
    "normalized_features_train = preprocessing.normalize(features_train.swapaxes(0, 1)).swapaxes(0, 1)\n",
    "normalized_features_test = preprocessing.normalize(features_test.swapaxes(0, 1)).swapaxes(0, 1)\n",
    "normalized_features_test = normalized_features_test.reshape((len(normalized_features_test), len(keys)-1))"
   ]
  },
  {
   "cell_type": "markdown",
   "metadata": {},
   "source": [
    "Define the NN model"
   ]
  },
  {
   "cell_type": "code",
   "execution_count": 4,
   "metadata": {
    "pycharm": {
     "name": "#%%\n"
    }
   },
   "outputs": [
    {
     "name": "stderr",
     "output_type": "stream",
     "text": [
      "2021-10-10 14:09:32.846123: I tensorflow/core/platform/cpu_feature_guard.cc:142] This TensorFlow binary is optimized with oneAPI Deep Neural Network Library (oneDNN) to use the following CPU instructions in performance-critical operations:  SSE4.1 SSE4.2 AVX AVX2 FMA\n",
      "To enable them in other operations, rebuild TensorFlow with the appropriate compiler flags.\n",
      "2021-10-10 14:09:32.946512: I tensorflow/compiler/mlir/mlir_graph_optimization_pass.cc:116] None of the MLIR optimization passes are enabled (registered 2)\n"
     ]
    },
    {
     "data": {
      "text/plain": [
       "<tensorflow.python.keras.callbacks.History at 0x7fea0342c0d0>"
      ]
     },
     "execution_count": 4,
     "metadata": {},
     "output_type": "execute_result"
    }
   ],
   "source": [
    "n_epochs = 1000\n",
    "\n",
    "# Single hidden layer NN\n",
    "heart_disease_model = tf.keras.Sequential([\n",
    "    layers.Dense(len(keys) * 2),\n",
    "    layers.Dense(1)\n",
    "])\n",
    "\n",
    "# Compile the model and fit\n",
    "heart_disease_model.compile(loss=tf.losses.BinaryCrossentropy(),\n",
    "                            optimizer=tf.optimizers.Adam())\n",
    "heart_disease_model.fit(normalized_features_train, labels_train, epochs=n_epochs, verbose=0)"
   ]
  },
  {
   "cell_type": "markdown",
   "metadata": {},
   "source": [
    "Predict the results"
   ]
  },
  {
   "cell_type": "code",
   "execution_count": 5,
   "metadata": {
    "pycharm": {
     "name": "#%%\n"
    }
   },
   "outputs": [
    {
     "name": "stderr",
     "output_type": "stream",
     "text": [
      "/Users/mhogan/.conda/envs/heartfailurepred/lib/python3.7/site-packages/tensorflow/python/keras/engine/sequential.py:450: UserWarning: `model.predict_classes()` is deprecated and will be removed after 2021-01-01. Please use instead:* `np.argmax(model.predict(x), axis=-1)`,   if your model does multi-class classification   (e.g. if it uses a `softmax` last-layer activation).* `(model.predict(x) > 0.5).astype(\"int32\")`,   if your model does binary classification   (e.g. if it uses a `sigmoid` last-layer activation).\n",
      "  warnings.warn('`model.predict_classes()` is deprecated and '\n"
     ]
    }
   ],
   "source": [
    "predictions_class = heart_disease_model.predict_classes(normalized_features_test).swapaxes(0, 1).flatten()"
   ]
  },
  {
   "cell_type": "markdown",
   "metadata": {},
   "source": [
    "Calculate intermediate results"
   ]
  },
  {
   "cell_type": "code",
   "execution_count": 6,
   "metadata": {
    "pycharm": {
     "name": "#%%\n"
    }
   },
   "outputs": [],
   "source": [
    "true_classes = enums.HeartDiseaseClassification()\n",
    "true_positive = np.count_nonzero(np.logical_and(predictions_class == true_classes.HeartDisease,\n",
    "                                                labels_test == true_classes.HeartDisease).astype(int))\n",
    "false_positive = np.count_nonzero(np.logical_and(predictions_class == true_classes.HeartDisease,\n",
    "                                                 labels_test == true_classes.Normal).astype(int))\n",
    "false_negative = np.count_nonzero(np.logical_and(predictions_class == true_classes.Normal,\n",
    "                                                 labels_test == true_classes.HeartDisease).astype(int))\n",
    "recall = true_positive / (false_negative + true_positive)\n",
    "precision = true_positive / (true_positive + false_positive)\n",
    "true_negative = np.count_nonzero(np.logical_and(predictions_class == true_classes.Normal,\n",
    "                                                labels_test == true_classes.Normal).astype(int))\n",
    "positives = np.count_nonzero((labels_test == true_classes.HeartDisease).astype(int))\n",
    "negatives = len(labels_test) - positives"
   ]
  },
  {
   "cell_type": "markdown",
   "metadata": {},
   "source": [
    "Calculate metrics"
   ]
  },
  {
   "cell_type": "code",
   "execution_count": 7,
   "metadata": {
    "pycharm": {
     "name": "#%%\n"
    }
   },
   "outputs": [
    {
     "name": "stdout",
     "output_type": "stream",
     "text": [
      "accuracy =  0.8382838283828383\n",
      "sensitivity =  0.9290322580645162\n",
      "specificity =  0.7432432432432432\n",
      "f1_score =  0.85459940652819\n",
      "Matthew's Corrleation Coefficient =  0.6861445416853905\n"
     ]
    }
   ],
   "source": [
    "sensitivity = float(true_positive) / positives\n",
    "specificity = float(true_negative) / negatives\n",
    "accuracy = (true_positive + true_negative) / (positives + negatives)\n",
    "f1_score = 2. / (1./recall + 1./precision)\n",
    "mcc = (true_positive * true_negative) - (false_positive * false_negative)\n",
    "mcc /= np.sqrt((true_positive + false_positive) * (true_positive + false_negative) *\n",
    "               (true_negative + false_positive) * (true_negative + false_negative))\n",
    "print('accuracy = ', accuracy)\n",
    "print('sensitivity = ', sensitivity)\n",
    "print('specificity = ', specificity)\n",
    "print('f1_score = ', f1_score)\n",
    "print('Matthew\\'s Corrleation Coefficient = ', mcc)\n"
   ]
  },
  {
   "cell_type": "code",
   "execution_count": null,
   "metadata": {},
   "outputs": [],
   "source": []
  }
 ],
 "metadata": {
  "kernelspec": {
   "display_name": "Python 3 (ipykernel)",
   "language": "python",
   "name": "python3"
  },
  "language_info": {
   "codemirror_mode": {
    "name": "ipython",
    "version": 3
   },
   "file_extension": ".py",
   "mimetype": "text/x-python",
   "name": "python",
   "nbconvert_exporter": "python",
   "pygments_lexer": "ipython3",
   "version": "3.7.11"
  }
 },
 "nbformat": 4,
 "nbformat_minor": 1
}