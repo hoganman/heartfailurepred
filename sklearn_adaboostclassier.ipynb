{
 "cells": [
  {
   "cell_type": "markdown",
   "metadata": {},
   "source": [
    "Load the modules"
   ]
  },
  {
   "cell_type": "code",
   "execution_count": 1,
   "metadata": {
    "pycharm": {
     "name": "#%%\n"
    }
   },
   "outputs": [],
   "source": [
    "import numpy as np\n",
    "from sklearn import preprocessing\n",
    "from sklearn.ensemble import AdaBoostClassifier, RandomForestClassifier\n",
    "from tensorflow.keras import layers\n",
    "from sklearn.model_selection import train_test_split\n",
    "\n",
    "from src import datareader, enums"
   ]
  },
  {
   "cell_type": "markdown",
   "metadata": {},
   "source": [
    "Load in the data and split between training and testing"
   ]
  },
  {
   "cell_type": "code",
   "execution_count": 2,
   "metadata": {
    "pycharm": {
     "name": "#%%\n"
    }
   },
   "outputs": [],
   "source": [
    "filename = '/Users/mhogan/Documents/heartfailurepred/heart.csv'\n",
    "keys, features, labels = datareader.get_csv_features_labels(filename)\n",
    "tt_splits = train_test_split(features, labels, test_size=0.33)\n",
    "features_train, features_test, labels_train, labels_test = tt_splits"
   ]
  },
  {
   "cell_type": "markdown",
   "metadata": {},
   "source": [
    "Normalize the data"
   ]
  },
  {
   "cell_type": "code",
   "execution_count": 3,
   "metadata": {
    "pycharm": {
     "name": "#%%\n"
    }
   },
   "outputs": [],
   "source": [
    "normalized_features_train = preprocessing.normalize(features_train.swapaxes(0, 1)).swapaxes(0, 1)\n",
    "normalized_features_test = preprocessing.normalize(features_test.swapaxes(0, 1)).swapaxes(0, 1)\n",
    "normalized_features_test = normalized_features_test.reshape((len(normalized_features_test), len(keys)-1))"
   ]
  },
  {
   "cell_type": "markdown",
   "metadata": {},
   "source": [
    "Define the AdaBoost model using RandomForestClassier"
   ]
  },
  {
   "cell_type": "code",
   "execution_count": 4,
   "metadata": {
    "pycharm": {
     "name": "#%%\n"
    }
   },
   "outputs": [
    {
     "data": {
      "text/plain": [
       "AdaBoostClassifier(base_estimator=RandomForestClassifier(max_depth=3,\n",
       "                                                         n_estimators=2000,\n",
       "                                                         n_jobs=2,\n",
       "                                                         verbose=False),\n",
       "                   n_estimators=10)"
      ]
     },
     "execution_count": 4,
     "metadata": {},
     "output_type": "execute_result"
    }
   ],
   "source": [
    "n_estimators_forest = 2000\n",
    "n_estimators_adaboost = 10\n",
    "random_forest_classifier: RandomForestClassifier = RandomForestClassifier(n_estimators=n_estimators_forest,\n",
    "                                                                          max_depth=3,\n",
    "                                                                          bootstrap=True,\n",
    "                                                                          verbose=False,\n",
    "                                                                          n_jobs=2,\n",
    "                                                                          )\n",
    "adaboost_classifier: AdaBoostClassifier = AdaBoostClassifier(base_estimator=random_forest_classifier,\n",
    "                                                             n_estimators=n_estimators_adaboost)\n",
    "\n",
    "adaboost_classifier.fit(normalized_features_train, labels_train)"
   ]
  },
  {
   "cell_type": "markdown",
   "metadata": {},
   "source": [
    "Predict the results"
   ]
  },
  {
   "cell_type": "code",
   "execution_count": 5,
   "metadata": {
    "pycharm": {
     "name": "#%%\n"
    }
   },
   "outputs": [],
   "source": [
    "predictions_class = adaboost_classifier.predict(features_test)"
   ]
  },
  {
   "cell_type": "markdown",
   "metadata": {},
   "source": [
    "Calculate intermediate results"
   ]
  },
  {
   "cell_type": "code",
   "execution_count": 6,
   "metadata": {
    "pycharm": {
     "name": "#%%\n"
    }
   },
   "outputs": [],
   "source": [
    "true_classes = enums.HeartDiseaseClassification()\n",
    "true_positive = np.count_nonzero(np.logical_and(predictions_class == true_classes.HeartDisease,\n",
    "                                                labels_test == true_classes.HeartDisease).astype(int))\n",
    "false_positive = np.count_nonzero(np.logical_and(predictions_class == true_classes.HeartDisease,\n",
    "                                                 labels_test == true_classes.Normal).astype(int))\n",
    "false_negative = np.count_nonzero(np.logical_and(predictions_class == true_classes.Normal,\n",
    "                                                 labels_test == true_classes.HeartDisease).astype(int))\n",
    "recall = true_positive / (false_negative + true_positive)\n",
    "precision = true_positive / (true_positive + false_positive)\n",
    "true_negative = np.count_nonzero(np.logical_and(predictions_class == true_classes.Normal,\n",
    "                                                labels_test == true_classes.Normal).astype(int))\n",
    "positives = np.count_nonzero((labels_test == true_classes.HeartDisease).astype(int))\n",
    "negatives = len(labels_test) - positives"
   ]
  },
  {
   "cell_type": "markdown",
   "metadata": {},
   "source": [
    "Calculate metrics"
   ]
  },
  {
   "cell_type": "code",
   "execution_count": 7,
   "metadata": {
    "pycharm": {
     "name": "#%%\n"
    }
   },
   "outputs": [
    {
     "name": "stdout",
     "output_type": "stream",
     "text": [
      "accuracy =  0.8151815181518152\n",
      "sensitivity =  0.9235294117647059\n",
      "specificity =  0.6766917293233082\n",
      "f1_score =  0.8486486486486486\n",
      "Matthew's Corrleation Coefficient =  0.6288223353246739\n"
     ]
    }
   ],
   "source": [
    "sensitivity = float(true_positive) / positives\n",
    "specificity = float(true_negative) / negatives\n",
    "accuracy = (true_positive + true_negative) / (positives + negatives)\n",
    "f1_score = 2. / (1./recall + 1./precision)\n",
    "mcc = (true_positive * true_negative) - (false_positive * false_negative)\n",
    "mcc /= np.sqrt((true_positive + false_positive) * (true_positive + false_negative) *\n",
    "               (true_negative + false_positive) * (true_negative + false_negative))\n",
    "print('accuracy = ', accuracy)\n",
    "print('sensitivity = ', sensitivity)\n",
    "print('specificity = ', specificity)\n",
    "print('f1_score = ', f1_score)\n",
    "print('Matthew\\'s Corrleation Coefficient = ', mcc)\n"
   ]
  },
  {
   "cell_type": "code",
   "execution_count": null,
   "metadata": {},
   "outputs": [],
   "source": []
  }
 ],
 "metadata": {
  "kernelspec": {
   "display_name": "Python 3 (ipykernel)",
   "language": "python",
   "name": "python3"
  },
  "language_info": {
   "codemirror_mode": {
    "name": "ipython",
    "version": 3
   },
   "file_extension": ".py",
   "mimetype": "text/x-python",
   "name": "python",
   "nbconvert_exporter": "python",
   "pygments_lexer": "ipython3",
   "version": "3.7.11"
  }
 },
 "nbformat": 4,
 "nbformat_minor": 1
}